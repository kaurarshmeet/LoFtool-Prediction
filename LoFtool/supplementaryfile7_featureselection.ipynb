{
 "cells": [
  {
   "cell_type": "code",
   "execution_count": 3,
   "id": "4372cffb-60c2-4b88-b9dc-a88f1b043c97",
   "metadata": {},
   "outputs": [],
   "source": [
    "#read stuff in \n",
    "import numpy as np \n",
    "import pandas as pd \n",
    "df_loftool = pd.read_csv('df_loftool.csv')   \n",
    "df_loftool_log = pd.read_csv('df_loftool_log.csv') \n",
    "df_loftool_yj = pd.read_csv('df_loftool_yj.csv') "
   ]
  },
  {
   "cell_type": "code",
   "execution_count": 4,
   "id": "b4f52446-b2a8-4f25-936e-5e2cfcdafb96",
   "metadata": {},
   "outputs": [
    {
     "name": "stdout",
     "output_type": "stream",
     "text": [
      "['POS', 'cDNA_position', 'CDS_position', 'Protein_position', 'STRAND', 'CHROM', 'SYMBOL', 'Feature', 'EXON', 'Codons']\n"
     ]
    }
   ],
   "source": [
    "#sources \n",
    "#https://scikit-learn.org/stable/modules/feature_selection.html\n",
    "#https://www.datatechnotes.com/2021/02/seleckbest-feature-selection-example-in-python.html\n",
    "#also took input from chatgpt\n",
    "\n",
    "import pandas as pd \n",
    "import numpy as np \n",
    "import sklearn\n",
    "from sklearn.feature_selection import SelectKBest, f_regression\n",
    "from sklearn.preprocessing import MinMaxScaler \n",
    "\n",
    "#learned of MinMaxScaler \n",
    "# Preprocess the feature matrix to ensure non-negative values\n",
    "\n",
    "X = df_loftool.drop('LoFtool', axis = 1)\n",
    "y = df_loftool['LoFtool'] \n",
    "\n",
    "scaler = MinMaxScaler()\n",
    "X_scale = scaler.fit_transform(X)\n",
    "\n",
    "machine = SelectKBest(score_func = f_regression, k = 10) \n",
    "X_new = machine.fit_transform(X_scale, y) \n",
    "filtered = machine.get_support(indices = True)\n",
    "features = list(X.columns[filtered]) \n",
    "print(features)"
   ]
  },
  {
   "cell_type": "code",
   "execution_count": 5,
   "id": "932f270a-9ed8-4591-97fc-aea79b9a78ac",
   "metadata": {},
   "outputs": [
    {
     "name": "stdout",
     "output_type": "stream",
     "text": [
      "['POS', 'cDNA_position', 'CDS_position', 'Protein_position', 'STRAND', 'CHROM', 'SYMBOL', 'Feature', 'EXON', 'Codons']\n"
     ]
    }
   ],
   "source": [
    "#sources \n",
    "#https://scikit-learn.org/stable/modules/feature_selection.html\n",
    "#https://www.datatechnotes.com/2021/02/seleckbest-feature-selection-example-in-python.html\n",
    "#also took input from chatgpt\n",
    "\n",
    "import pandas as pd \n",
    "import numpy as np \n",
    "import sklearn\n",
    "from sklearn.feature_selection import SelectKBest, f_regression\n",
    "from sklearn.preprocessing import MinMaxScaler \n",
    "\n",
    "#learned of MinMaxScaler \n",
    "# Preprocess the feature matrix to ensure non-negative values\n",
    "scaler = MinMaxScaler()\n",
    "\n",
    "X = df_loftool_log.drop('LoFtool', axis = 1)\n",
    "y = df_loftool_log['LoFtool'] \n",
    "\n",
    "X_scale = scaler.fit_transform(X)\n",
    "\n",
    "machine = SelectKBest(score_func = f_regression, k = 10) \n",
    "X_new = machine.fit_transform(X_scale, y) \n",
    "filtered = machine.get_support(indices = True)\n",
    "features = list(X.columns[filtered]) \n",
    "print(features)"
   ]
  },
  {
   "cell_type": "code",
   "execution_count": 10,
   "id": "9ccb9547-f715-41e6-8bfa-a2897329da65",
   "metadata": {},
   "outputs": [
    {
     "name": "stdout",
     "output_type": "stream",
     "text": [
      "['POS', 'cDNA_position', 'CDS_position', 'Protein_position', 'STRAND', 'CHROM', 'SYMBOL', 'Feature', 'EXON', 'Codons']\n"
     ]
    }
   ],
   "source": [
    "#sources \n",
    "#https://scikit-learn.org/stable/modules/feature_selection.html\n",
    "#https://www.datatechnotes.com/2021/02/seleckbest-feature-selection-example-in-python.html\n",
    "#also took input from chatgpt\n",
    "\n",
    "import pandas as pd \n",
    "import numpy as np \n",
    "import sklearn\n",
    "from sklearn.feature_selection import SelectKBest, f_regression\n",
    "from sklearn.preprocessing import MinMaxScaler \n",
    "\n",
    "#learned of MinMaxScaler \n",
    "# Preprocess the feature matrix to ensure non-negative values\n",
    "scaler = MinMaxScaler()\n",
    "\n",
    "X = df_loftool_yj.drop('LoFtool', axis = 1)\n",
    "y = df_loftool_yj['LoFtool'] \n",
    "\n",
    "X_scale = scaler.fit_transform(X)\n",
    "\n",
    "machine = SelectKBest(score_func = f_regression, k = 10) \n",
    "X_new = machine.fit_transform(X_scale, y) \n",
    "filtered = machine.get_support(indices = True)\n",
    "features = list(X.columns[filtered]) \n",
    "print(features)"
   ]
  }
 ],
 "metadata": {
  "kernelspec": {
   "display_name": "Python 3 (ipykernel)",
   "language": "python",
   "name": "python3"
  },
  "language_info": {
   "codemirror_mode": {
    "name": "ipython",
    "version": 3
   },
   "file_extension": ".py",
   "mimetype": "text/x-python",
   "name": "python",
   "nbconvert_exporter": "python",
   "pygments_lexer": "ipython3",
   "version": "3.11.4"
  }
 },
 "nbformat": 4,
 "nbformat_minor": 5
}
