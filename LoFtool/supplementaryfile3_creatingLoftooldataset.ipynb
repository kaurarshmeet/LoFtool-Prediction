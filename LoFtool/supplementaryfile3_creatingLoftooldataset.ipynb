{
 "cells": [
  {
   "cell_type": "markdown",
   "id": "1b628799-50ca-49f1-87b3-150715deae84",
   "metadata": {},
   "source": [
    "# Supplementary File 3: Creating and exploring the LoFtool data set \n",
    "objectives: \n",
    "(1) dropping the other pathogenicity columns to create the LoFtool dataset \n",
    "\n",
    "Input: clinvar_cleaned.csv\n",
    "Output: clinvar_loftool.csv "
   ]
  },
  {
   "cell_type": "code",
   "execution_count": 4,
   "id": "9bdc447f-7c79-4df8-9365-3d9aaf52b61a",
   "metadata": {},
   "outputs": [
    {
     "name": "stdout",
     "output_type": "stream",
     "text": [
      "columns in data: Index(['CHROM', 'POS', 'REF', 'ALT', 'AF_ESP', 'AF_EXAC', 'AF_TGP', 'MC',\n",
      "       'IMPACT', 'SYMBOL', 'Feature', 'EXON', 'cDNA_position', 'CDS_position',\n",
      "       'Protein_position', 'Amino_acids', 'Codons', 'STRAND', 'SIFT',\n",
      "       'PolyPhen', 'LoFtool', 'CADD_PHRED', 'BLOSUM62'],\n",
      "      dtype='object')\n",
      "Shape (rows, columns) after dropping other pathogenicity scores: (39693, 19)\n",
      "<class 'pandas.core.frame.DataFrame'>\n",
      "RangeIndex: 39693 entries, 0 to 39692\n",
      "Data columns (total 19 columns):\n",
      " #   Column            Non-Null Count  Dtype  \n",
      "---  ------            --------------  -----  \n",
      " 0   CHROM             39693 non-null  object \n",
      " 1   POS               39693 non-null  int64  \n",
      " 2   REF               39693 non-null  object \n",
      " 3   ALT               39693 non-null  object \n",
      " 4   AF_ESP            39693 non-null  float64\n",
      " 5   AF_EXAC           39693 non-null  float64\n",
      " 6   AF_TGP            39693 non-null  float64\n",
      " 7   MC                39681 non-null  object \n",
      " 8   IMPACT            39693 non-null  object \n",
      " 9   SYMBOL            39693 non-null  object \n",
      " 10  Feature           39693 non-null  object \n",
      " 11  EXON              39693 non-null  object \n",
      " 12  cDNA_position     39693 non-null  float64\n",
      " 13  CDS_position      39693 non-null  float64\n",
      " 14  Protein_position  39693 non-null  int64  \n",
      " 15  Amino_acids       39693 non-null  object \n",
      " 16  Codons            39693 non-null  object \n",
      " 17  STRAND            39693 non-null  float64\n",
      " 18  LoFtool           37220 non-null  float64\n",
      "dtypes: float64(7), int64(2), object(10)\n",
      "memory usage: 5.8+ MB\n"
     ]
    }
   ],
   "source": [
    "import pandas as pd\n",
    "\n",
    "#read in the csv \n",
    "df = pd.read_csv('clinvar_cleaned.csv')\n",
    "print(\"columns in data:\", df.columns)\n",
    "\n",
    "#drop other pathogenicity columns \n",
    "df = df.drop(['CADD_PHRED', 'BLOSUM62', 'SIFT', 'PolyPhen'], axis =1) \n",
    "print(\"Shape (rows, columns) after dropping other pathogenicity scores:\", df.shape) \n",
    "\n",
    "df.info()\n",
    "\n",
    "#export the data to a csv \n",
    "df.to_csv('clinvar_loftool.csv', index = False) "
   ]
  }
 ],
 "metadata": {
  "kernelspec": {
   "display_name": "Python 3 (ipykernel)",
   "language": "python",
   "name": "python3"
  },
  "language_info": {
   "codemirror_mode": {
    "name": "ipython",
    "version": 3
   },
   "file_extension": ".py",
   "mimetype": "text/x-python",
   "name": "python",
   "nbconvert_exporter": "python",
   "pygments_lexer": "ipython3",
   "version": "3.11.4"
  }
 },
 "nbformat": 4,
 "nbformat_minor": 5
}
